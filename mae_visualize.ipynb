{
 "cells": [
  {
   "cell_type": "code",
   "execution_count": null,
   "id": "4fb8a02f",
   "metadata": {},
   "outputs": [
    {
     "ename": "",
     "evalue": "",
     "output_type": "error",
     "traceback": [
      "\u001b[1;31mFailed to start the Kernel. \n",
      "\u001b[1;31mYou are using pip version 10.0.1, however version 23.0.1 is available.\n",
      "\u001b[1;31mYou should consider upgrading via the 'pip install --upgrade pip' command. \n",
      "\u001b[1;31mView Jupyter <a href='command:jupyter.viewOutput'>log</a> for further details."
     ]
    }
   ],
   "source": [
    "%load_ext autoreload\n",
    "%autoreload 2"
   ]
  },
  {
   "attachments": {},
   "cell_type": "markdown",
   "id": "fa214436",
   "metadata": {},
   "source": [
    "# Model Visualization"
   ]
  },
  {
   "cell_type": "code",
   "execution_count": null,
   "id": "1eae7403-f458-4f55-a557-4e045bd6f679",
   "metadata": {},
   "outputs": [
    {
     "ename": "",
     "evalue": "",
     "output_type": "error",
     "traceback": [
      "\u001b[1;31mFailed to start the Kernel. \n",
      "\u001b[1;31mYou are using pip version 10.0.1, however version 23.0.1 is available.\n",
      "\u001b[1;31mYou should consider upgrading via the 'pip install --upgrade pip' command. \n",
      "\u001b[1;31mView Jupyter <a href='command:jupyter.viewOutput'>log</a> for further details."
     ]
    }
   ],
   "source": [
    "import torch\n",
    "import glob\n",
    "\n",
    "import matplotlib.pyplot as plt\n",
    "import viz"
   ]
  },
  {
   "cell_type": "markdown",
   "id": "8b7e691d-93d2-439f-91d6-c22716a897b5",
   "metadata": {},
   "source": [
    "### Load a pre-trained MAE model"
   ]
  },
  {
   "cell_type": "code",
   "execution_count": null,
   "id": "fd2d7da9-f75c-4b27-a84b-6d1247f73a7d",
   "metadata": {},
   "outputs": [
    {
     "ename": "",
     "evalue": "",
     "output_type": "error",
     "traceback": [
      "\u001b[1;31mFailed to start the Kernel. \n",
      "\u001b[1;31mYou are using pip version 10.0.1, however version 23.0.1 is available.\n",
      "\u001b[1;31mYou should consider upgrading via the 'pip install --upgrade pip' command. \n",
      "\u001b[1;31mView Jupyter <a href='command:jupyter.viewOutput'>log</a> for further details."
     ]
    }
   ],
   "source": [
    "model = viz.prepare_model(chkpt_dir=\"out_mae_vit_base_xformers_scaled_dot_product_MLP_i128_p16_b256_e200\", \n",
    "                          arch=\"mae_vit_base\")\n",
    "\n",
    "# model = viz.prepare_model(chkpt_dir=\"out_mae_vit_small_scaled_dot_product_i128_p16_b512_e200\", \n",
    "#                           chkpt_name=\"40\", # Optional\n",
    "#                           arch=\"mae_vit_small\")"
   ]
  },
  {
   "cell_type": "code",
   "execution_count": null,
   "id": "75ff3f66",
   "metadata": {},
   "outputs": [
    {
     "ename": "",
     "evalue": "",
     "output_type": "error",
     "traceback": [
      "\u001b[1;31mFailed to start the Kernel. \n",
      "\u001b[1;31mYou are using pip version 10.0.1, however version 23.0.1 is available.\n",
      "\u001b[1;31mYou should consider upgrading via the 'pip install --upgrade pip' command. \n",
      "\u001b[1;31mView Jupyter <a href='command:jupyter.viewOutput'>log</a> for further details."
     ]
    }
   ],
   "source": [
    "# load an image\n",
    "# img_url = 'https://encrypted-tbn0.gstatic.com/images?q=tbn:ANd9GcRFQsDBSqgPKLHyunyQ0LJVDBXwzpnvWJqAOLPvVaUoA0xP-ZH4PPVCuyZtMllgEHSRTog&usqp=CAU'\n",
    "# img_url = 'https://encrypted-tbn0.gstatic.com/images?q=tbn:ANd9GcQSEHLflglbuqe5FfipsPHIQHOSmDX46YBMQIt2yiIZteSj6k_bnnVtAgNGrSWIYAovuzM&usqp=CAU'\n",
    "# img_data = requests.get(img_url, stream=True).raw\n",
    "\n",
    "img = viz.prepare_image('./images/0.jpg', model)\n",
    "plt.rcParams[\"figure.figsize\"] = [5, 5]\n",
    "viz.show_image(torch.tensor(img))"
   ]
  },
  {
   "cell_type": "markdown",
   "id": "7d15a0a7-c093-439a-9a4d-c37ce0c0eaa6",
   "metadata": {},
   "source": [
    "### Run MAE on the image"
   ]
  },
  {
   "cell_type": "code",
   "execution_count": null,
   "id": "1b0eb444-e403-44a9-a370-ff2326f78f30",
   "metadata": {},
   "outputs": [
    {
     "ename": "",
     "evalue": "",
     "output_type": "error",
     "traceback": [
      "\u001b[1;31mFailed to start the Kernel. \n",
      "\u001b[1;31mYou are using pip version 10.0.1, however version 23.0.1 is available.\n",
      "\u001b[1;31mYou should consider upgrading via the 'pip install --upgrade pip' command. \n",
      "\u001b[1;31mView Jupyter <a href='command:jupyter.viewOutput'>log</a> for further details."
     ]
    }
   ],
   "source": [
    "viz.run_one_image(img, model, seed=None)\n",
    "# run_one_image(img, model_mae, seed=2)"
   ]
  },
  {
   "cell_type": "code",
   "execution_count": null,
   "id": "f87ec7de",
   "metadata": {},
   "outputs": [
    {
     "ename": "",
     "evalue": "",
     "output_type": "error",
     "traceback": [
      "\u001b[1;31mFailed to start the Kernel. \n",
      "\u001b[1;31mYou are using pip version 10.0.1, however version 23.0.1 is available.\n",
      "\u001b[1;31mYou should consider upgrading via the 'pip install --upgrade pip' command. \n",
      "\u001b[1;31mView Jupyter <a href='command:jupyter.viewOutput'>log</a> for further details."
     ]
    }
   ],
   "source": [
    "\n",
    "for img_path in glob.glob('./images/*.jpg'):\n",
    "    img = viz.prepare_image(img_path, model)\n",
    "    viz.run_one_image(img, model, seed=None, figsize=15)"
   ]
  }
 ],
 "metadata": {
  "kernelspec": {
   "display_name": "base",
   "language": "python",
   "name": "python3"
  },
  "language_info": {
   "codemirror_mode": {
    "name": "ipython",
    "version": 3
   },
   "file_extension": ".py",
   "mimetype": "text/x-python",
   "name": "python",
   "nbconvert_exporter": "python",
   "pygments_lexer": "ipython3",
   "version": "3.9.13"
  },
  "vscode": {
   "interpreter": {
    "hash": "5879f4320f4d2fce76aa2c28e10be64fbf264cf900fdc84cd5dcaba31354da66"
   }
  }
 },
 "nbformat": 4,
 "nbformat_minor": 5
}
