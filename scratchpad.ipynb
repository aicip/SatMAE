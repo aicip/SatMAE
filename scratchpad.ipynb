{
 "cells": [
  {
   "cell_type": "code",
   "execution_count": 1,
   "metadata": {},
   "outputs": [],
   "source": [
    "import torch"
   ]
  },
  {
   "cell_type": "code",
   "execution_count": 4,
   "metadata": {},
   "outputs": [
    {
     "name": "stdout",
     "output_type": "stream",
     "text": [
      "torch.Size([1, 64, 768])\n",
      "torch.Size([1, 192, 16, 16])\n"
     ]
    }
   ],
   "source": [
    "# Create empty torch.Size([1, 64, 768]) tensor\n",
    "H, W = 16, 16\n",
    "img_shape = (1, 3, 128, 128)\n",
    "x = torch.empty(1, 64, 768)\n",
    "print(x.shape)\n",
    "cont = x.reshape(1, H, W, -1).permute(0, 3, 1, 2).contiguous()\n",
    "print(cont.shape)"
   ]
  }
 ],
 "metadata": {
  "kernelspec": {
   "display_name": "sat_env",
   "language": "python",
   "name": "python3"
  },
  "language_info": {
   "codemirror_mode": {
    "name": "ipython",
    "version": 3
   },
   "file_extension": ".py",
   "mimetype": "text/x-python",
   "name": "python",
   "nbconvert_exporter": "python",
   "pygments_lexer": "ipython3",
   "version": "3.7.16"
  },
  "orig_nbformat": 4
 },
 "nbformat": 4,
 "nbformat_minor": 2
}
