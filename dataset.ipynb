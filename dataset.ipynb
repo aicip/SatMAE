{
 "cells": [
  {
   "cell_type": "code",
   "execution_count": 5,
   "metadata": {},
   "outputs": [],
   "source": [
    "import glob\n",
    "import cv2\n",
    "import numpy as np\n",
    "from tqdm import tqdm"
   ]
  },
  {
   "cell_type": "code",
   "execution_count": 6,
   "metadata": {},
   "outputs": [],
   "source": [
    "def get_files(path):\n",
    "    # get all the files in the path\n",
    "    files = glob.glob(path + \"/**/*.jpg\", recursive=True)\n",
    "    # return the files\n",
    "    return files\n",
    "\n",
    "\n",
    "def get_mean_std(path):\n",
    "    # get per-channel mean and std\n",
    "    mean = np.zeros(3, dtype=np.float64)\n",
    "    std = np.zeros(3, dtype=np.float64)\n",
    "    # get all the files in the path\n",
    "    files = get_files(path)\n",
    "    for i, file in tqdm(enumerate(files)):\n",
    "        # read the image\n",
    "        img = cv2.imread(file)\n",
    "        # convert to numpy array\n",
    "        img = np.array(img)\n",
    "        # calculate the mean and std\n",
    "        mean += np.mean(img, axis=(0, 1), dtype=np.float64)\n",
    "        std += np.std(img, axis=(0, 1), dtype=np.float64)\n",
    "\n",
    "    # calculate the mean and std\n",
    "    mean /= len(files)\n",
    "    std /= len(files)\n",
    "    # return the mean and std\n",
    "    return mean, std"
   ]
  },
  {
   "cell_type": "code",
   "execution_count": 7,
   "metadata": {},
   "outputs": [
    {
     "name": "stderr",
     "output_type": "stream",
     "text": [
      "727144it [04:14, 2857.18it/s]"
     ]
    },
    {
     "name": "stdout",
     "output_type": "stream",
     "text": [
      "i_mean:  [103.88694309 111.11271294 110.64783206]\n",
      "i_std:  [48.37557591 48.8181842  50.90494092]\n",
      "f_mean:  [0.40739978 0.43573613 0.43391307]\n",
      "f_std:  [0.18970814 0.19144386 0.19962722]\n"
     ]
    },
    {
     "name": "stderr",
     "output_type": "stream",
     "text": [
      "\n"
     ]
    }
   ],
   "source": [
    "path = \"../fmow-rgb-preproc/data_64/input/train_data/train\"\n",
    "# path = \"./images/\"\n",
    "\n",
    "# find the mean and std of all the image files in the path\n",
    "mean, std = get_mean_std(path)\n",
    "print(\"i_mean: \", mean)\n",
    "print(\"i_std: \", std)\n",
    "mean /= 255.0\n",
    "std /= 255.0\n",
    "print(\"f_mean: \", mean)\n",
    "print(\"f_std: \", std)"
   ]
  },
  {
   "cell_type": "code",
   "execution_count": 8,
   "metadata": {},
   "outputs": [
    {
     "name": "stderr",
     "output_type": "stream",
     "text": [
      "848585it [05:01, 2816.95it/s]\n"
     ]
    },
    {
     "ename": "KeyboardInterrupt",
     "evalue": "",
     "output_type": "error",
     "traceback": [
      "\u001b[0;31m---------------------------------------------------------------------------\u001b[0m",
      "\u001b[0;31mKeyboardInterrupt\u001b[0m                         Traceback (most recent call last)",
      "Cell \u001b[0;32mIn[8], line 5\u001b[0m\n\u001b[1;32m      1\u001b[0m path \u001b[39m=\u001b[39m \u001b[39m\"\u001b[39m\u001b[39m../fmow-rgb-preproc/data_64/input/\u001b[39m\u001b[39m\"\u001b[39m\n\u001b[1;32m      2\u001b[0m \u001b[39m# path = \"./images/\"\u001b[39;00m\n\u001b[1;32m      3\u001b[0m \n\u001b[1;32m      4\u001b[0m \u001b[39m# find the mean and std of all the image files in the path\u001b[39;00m\n\u001b[0;32m----> 5\u001b[0m mean, std \u001b[39m=\u001b[39m get_mean_std(path)\n\u001b[1;32m      6\u001b[0m \u001b[39mprint\u001b[39m(\u001b[39m\"\u001b[39m\u001b[39mi_mean: \u001b[39m\u001b[39m\"\u001b[39m, mean)\n\u001b[1;32m      7\u001b[0m \u001b[39mprint\u001b[39m(\u001b[39m\"\u001b[39m\u001b[39mi_std: \u001b[39m\u001b[39m\"\u001b[39m, std)\n",
      "Cell \u001b[0;32mIn[6], line 21\u001b[0m, in \u001b[0;36mget_mean_std\u001b[0;34m(path)\u001b[0m\n\u001b[1;32m     19\u001b[0m     \u001b[39m# calculate the mean and std\u001b[39;00m\n\u001b[1;32m     20\u001b[0m     mean \u001b[39m+\u001b[39m\u001b[39m=\u001b[39m np\u001b[39m.\u001b[39mmean(img, axis\u001b[39m=\u001b[39m(\u001b[39m0\u001b[39m, \u001b[39m1\u001b[39m), dtype\u001b[39m=\u001b[39mnp\u001b[39m.\u001b[39mfloat64)\n\u001b[0;32m---> 21\u001b[0m     std \u001b[39m+\u001b[39m\u001b[39m=\u001b[39m np\u001b[39m.\u001b[39;49mstd(img, axis\u001b[39m=\u001b[39;49m(\u001b[39m0\u001b[39;49m, \u001b[39m1\u001b[39;49m), dtype\u001b[39m=\u001b[39;49mnp\u001b[39m.\u001b[39;49mfloat64)\n\u001b[1;32m     23\u001b[0m \u001b[39m# calculate the mean and std\u001b[39;00m\n\u001b[1;32m     24\u001b[0m mean \u001b[39m/\u001b[39m\u001b[39m=\u001b[39m \u001b[39mlen\u001b[39m(files)\n",
      "File \u001b[0;32m<__array_function__ internals>:180\u001b[0m, in \u001b[0;36mstd\u001b[0;34m(*args, **kwargs)\u001b[0m\n",
      "File \u001b[0;32m~/.local/lib/python3.10/site-packages/numpy/core/fromnumeric.py:3573\u001b[0m, in \u001b[0;36mstd\u001b[0;34m(a, axis, dtype, out, ddof, keepdims, where)\u001b[0m\n\u001b[1;32m   3570\u001b[0m     \u001b[39melse\u001b[39;00m:\n\u001b[1;32m   3571\u001b[0m         \u001b[39mreturn\u001b[39;00m std(axis\u001b[39m=\u001b[39maxis, dtype\u001b[39m=\u001b[39mdtype, out\u001b[39m=\u001b[39mout, ddof\u001b[39m=\u001b[39mddof, \u001b[39m*\u001b[39m\u001b[39m*\u001b[39mkwargs)\n\u001b[0;32m-> 3573\u001b[0m \u001b[39mreturn\u001b[39;00m _methods\u001b[39m.\u001b[39;49m_std(a, axis\u001b[39m=\u001b[39;49maxis, dtype\u001b[39m=\u001b[39;49mdtype, out\u001b[39m=\u001b[39;49mout, ddof\u001b[39m=\u001b[39;49mddof,\n\u001b[1;32m   3574\u001b[0m                      \u001b[39m*\u001b[39;49m\u001b[39m*\u001b[39;49mkwargs)\n",
      "File \u001b[0;32m~/.local/lib/python3.10/site-packages/numpy/core/_methods.py:265\u001b[0m, in \u001b[0;36m_std\u001b[0;34m(a, axis, dtype, out, ddof, keepdims, where)\u001b[0m\n\u001b[1;32m    263\u001b[0m \u001b[39mdef\u001b[39;00m \u001b[39m_std\u001b[39m(a, axis\u001b[39m=\u001b[39m\u001b[39mNone\u001b[39;00m, dtype\u001b[39m=\u001b[39m\u001b[39mNone\u001b[39;00m, out\u001b[39m=\u001b[39m\u001b[39mNone\u001b[39;00m, ddof\u001b[39m=\u001b[39m\u001b[39m0\u001b[39m, keepdims\u001b[39m=\u001b[39m\u001b[39mFalse\u001b[39;00m, \u001b[39m*\u001b[39m,\n\u001b[1;32m    264\u001b[0m          where\u001b[39m=\u001b[39m\u001b[39mTrue\u001b[39;00m):\n\u001b[0;32m--> 265\u001b[0m     ret \u001b[39m=\u001b[39m _var(a, axis\u001b[39m=\u001b[39;49maxis, dtype\u001b[39m=\u001b[39;49mdtype, out\u001b[39m=\u001b[39;49mout, ddof\u001b[39m=\u001b[39;49mddof,\n\u001b[1;32m    266\u001b[0m                keepdims\u001b[39m=\u001b[39;49mkeepdims, where\u001b[39m=\u001b[39;49mwhere)\n\u001b[1;32m    268\u001b[0m     \u001b[39mif\u001b[39;00m \u001b[39misinstance\u001b[39m(ret, mu\u001b[39m.\u001b[39mndarray):\n\u001b[1;32m    269\u001b[0m         ret \u001b[39m=\u001b[39m um\u001b[39m.\u001b[39msqrt(ret, out\u001b[39m=\u001b[39mret)\n",
      "File \u001b[0;32m~/.local/lib/python3.10/site-packages/numpy/core/_methods.py:247\u001b[0m, in \u001b[0;36m_var\u001b[0;34m(a, axis, dtype, out, ddof, keepdims, where)\u001b[0m\n\u001b[1;32m    242\u001b[0m \u001b[39m# Most general case; includes handling object arrays containing imaginary\u001b[39;00m\n\u001b[1;32m    243\u001b[0m \u001b[39m# numbers and complex types with non-native byteorder\u001b[39;00m\n\u001b[1;32m    244\u001b[0m \u001b[39melse\u001b[39;00m:\n\u001b[1;32m    245\u001b[0m     x \u001b[39m=\u001b[39m um\u001b[39m.\u001b[39mmultiply(x, um\u001b[39m.\u001b[39mconjugate(x), out\u001b[39m=\u001b[39mx)\u001b[39m.\u001b[39mreal\n\u001b[0;32m--> 247\u001b[0m ret \u001b[39m=\u001b[39m umr_sum(x, axis, dtype, out, keepdims\u001b[39m=\u001b[39;49mkeepdims, where\u001b[39m=\u001b[39;49mwhere)\n\u001b[1;32m    249\u001b[0m \u001b[39m# Compute degrees of freedom and make sure it is not negative.\u001b[39;00m\n\u001b[1;32m    250\u001b[0m rcount \u001b[39m=\u001b[39m um\u001b[39m.\u001b[39mmaximum(rcount \u001b[39m-\u001b[39m ddof, \u001b[39m0\u001b[39m)\n",
      "\u001b[0;31mKeyboardInterrupt\u001b[0m: "
     ]
    }
   ],
   "source": [
    "path = \"../fmow-rgb-preproc/data_64/input/\"\n",
    "# path = \"./images/\"\n",
    "\n",
    "# find the mean and std of all the image files in the path\n",
    "mean, std = get_mean_std(path)\n",
    "print(\"i_mean: \", mean)\n",
    "print(\"i_std: \", std)\n",
    "mean /= 255.0\n",
    "std /= 255.0\n",
    "print(\"f_mean: \", mean)\n",
    "print(\"f_std: \", std)"
   ]
  },
  {
   "cell_type": "code",
   "execution_count": null,
   "metadata": {},
   "outputs": [],
   "source": [
    "path = \"../fmow-rgb-preproc/data_128/input/\"\n",
    "# path = \"./images/\"\n",
    "\n",
    "# find the mean and std of all the image files in the path\n",
    "mean, std = get_mean_std(path)\n",
    "print(\"i_mean: \", mean)\n",
    "print(\"i_std: \", std)\n",
    "mean /= 255.0\n",
    "std /= 255.0\n",
    "print(\"f_mean: \", mean)\n",
    "print(\"f_std: \", std)"
   ]
  },
  {
   "cell_type": "code",
   "execution_count": 9,
   "metadata": {},
   "outputs": [
    {
     "name": "stderr",
     "output_type": "stream",
     "text": [
      "727144it [44:10, 274.33it/s]"
     ]
    },
    {
     "name": "stdout",
     "output_type": "stream",
     "text": [
      "i_mean:  [103.8943466  111.12298375 110.64887651]\n",
      "i_std:  [49.2014998  49.01874288 50.69842464]\n",
      "f_mean:  [0.40742881 0.43577641 0.43391716]\n",
      "f_std:  [0.19294706 0.19223036 0.19881735]\n"
     ]
    },
    {
     "name": "stderr",
     "output_type": "stream",
     "text": [
      "\n"
     ]
    }
   ],
   "source": [
    "path = \"../fmow-rgb-preproc/data_224/input/train_data/train\"\n",
    "# path = \"./images/\"\n",
    "\n",
    "# find the mean and std of all the image files in the path\n",
    "mean, std = get_mean_std(path)\n",
    "print(\"i_mean: \", mean)\n",
    "print(\"i_std: \", std)\n",
    "mean /= 255.0\n",
    "std /= 255.0\n",
    "print(\"f_mean: \", mean)\n",
    "print(\"f_std: \", std)"
   ]
  },
  {
   "cell_type": "code",
   "execution_count": 10,
   "metadata": {},
   "outputs": [
    {
     "name": "stderr",
     "output_type": "stream",
     "text": [
      "920595it [57:18, 267.76it/s]"
     ]
    },
    {
     "name": "stdout",
     "output_type": "stream",
     "text": [
      "i_mean:  [103.42383655 110.61631147 110.09845081]\n",
      "i_std:  [48.9811847  48.79761436 50.44906546]\n",
      "f_mean:  [0.40558367 0.43378946 0.43175863]\n",
      "f_std:  [0.19208308 0.19136319 0.19783947]\n"
     ]
    },
    {
     "name": "stderr",
     "output_type": "stream",
     "text": [
      "\n"
     ]
    }
   ],
   "source": [
    "path = \"../fmow-rgb-preproc/data_224/input/\"\n",
    "# path = \"./images/\"\n",
    "\n",
    "# find the mean and std of all the image files in the path\n",
    "mean, std = get_mean_std(path)\n",
    "print(\"i_mean: \", mean)\n",
    "print(\"i_std: \", std)\n",
    "mean /= 255.0\n",
    "std /= 255.0\n",
    "print(\"f_mean: \", mean)\n",
    "print(\"f_std: \", std)"
   ]
  }
 ],
 "metadata": {
  "kernelspec": {
   "display_name": "Python 3",
   "language": "python",
   "name": "python3"
  },
  "language_info": {
   "codemirror_mode": {
    "name": "ipython",
    "version": 3
   },
   "file_extension": ".py",
   "mimetype": "text/x-python",
   "name": "python",
   "nbconvert_exporter": "python",
   "pygments_lexer": "ipython3",
   "version": "3.10.6"
  },
  "orig_nbformat": 4,
  "vscode": {
   "interpreter": {
    "hash": "e7370f93d1d0cde622a1f8e1c04877d8463912d04d973331ad4851f04de6915a"
   }
  }
 },
 "nbformat": 4,
 "nbformat_minor": 2
}
